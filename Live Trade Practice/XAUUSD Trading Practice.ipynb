{
 "cells": [
  {
   "cell_type": "markdown",
   "metadata": {},
   "source": [
    "## 2020年1月16日交易记录\n",
    "\n",
    "#### 第一单\n",
    "\n",
    "单号：26576240\n",
    "\n",
    "操作级别: 5分钟\n",
    "\n",
    "买卖点：第3类买点\n",
    "\n",
    "判断依据：当前段回调内部背驰时不跌破5分钟中枢\n",
    "\n",
    "下单手数：0.01 手\n",
    "\n",
    "\n",
    "\n",
    "\n",
    "#### 第二单\n",
    "\n",
    "单号：26580553\n",
    "\n",
    "操作级别: 5分钟\n",
    "\n",
    "买卖点：第2类卖点\n",
    "\n",
    "判断依据：前一段内部没有背驰，当前段内部背驰，且高点在前一段内部最后反弹的高点范围内，十分技术\n",
    "\n",
    "下单手数：0.1 手\n",
    "\n",
    "### 入场图\n",
    "\n",
    "<img src=\"images/26580553i.jpg\">\n",
    "\n",
    "\n",
    "\n",
    "### 复盘\n",
    "\n"
   ]
  },
  {
   "cell_type": "markdown",
   "metadata": {},
   "source": [
    "## 2020年1月17日交易记录\n",
    "\n",
    "<img src=images/2020-01-17.jpg>\n",
    "\n",
    "### 复盘\n",
    "\n",
    "注：操作级别为5分钟，虚线为笔，实线为段，蓝框为中枢，红箭头为卖点，蓝箭头为买点，红×为损失出场，\n",
    "\n"
   ]
  },
  {
   "cell_type": "markdown",
   "metadata": {},
   "source": [
    "## 2020年1月20日交易和复盘\n",
    "\n",
    "<img src=images/2020-01-20.jpg>"
   ]
  },
  {
   "cell_type": "code",
   "execution_count": null,
   "metadata": {},
   "outputs": [],
   "source": []
  }
 ],
 "metadata": {
  "kernelspec": {
   "display_name": "Python 3",
   "language": "python",
   "name": "python3"
  },
  "language_info": {
   "codemirror_mode": {
    "name": "ipython",
    "version": 3
   },
   "file_extension": ".py",
   "mimetype": "text/x-python",
   "name": "python",
   "nbconvert_exporter": "python",
   "pygments_lexer": "ipython3",
   "version": "3.7.3"
  }
 },
 "nbformat": 4,
 "nbformat_minor": 2
}
